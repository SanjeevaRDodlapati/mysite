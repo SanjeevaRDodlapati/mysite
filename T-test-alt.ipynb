{
 "cells": [
  {
   "cell_type": "raw",
   "id": "d7ff3367-33ec-4e2e-83d0-d5c7cc90940e",
   "metadata": {},
   "source": [
    "---\n",
    "title: \"Student t-test: Applications\"\n",
    "toc: false  # Disables the table of contents\n",
    "format:\n",
    "  html:\n",
    "    code-fold: false\n",
    "    code-overflow: wrap\n",
    "    code-tools:\n",
    "      source: true\n",
    "      toggle: true\n",
    "      caption: none\n",
    "highlight-style: dracula\n",
    "sidebar: minimal-sidebar\n",
    "jupyter: python3\n",
    "---"
   ]
  },
  {
   "cell_type": "code",
   "execution_count": 1,
   "id": "d24c1383-5bbb-41f3-8e36-98cc269503f9",
   "metadata": {},
   "outputs": [
    {
     "data": {
      "text/html": [
       "\n",
       "<div class=\"social-share\">\n",
       "  <a href=\"https://twitter.com/intent/tweet?text=Check out this blog post&url=https://www.reddydodlapati.com/top10_bioinfo_stats\" target=\"_blank\">\n",
       "    <img src=\"https://cdn-icons-png.flaticon.com/512/733/733579.png\" alt=\"Share on Twitter\" width=\"24px\">\n",
       "  </a>\n",
       "  <a href=\"https://www.linkedin.com/sharing/share-offsite/?url=https://www.reddydodlapati.com/top10_bioinfo_stats\" target=\"_blank\">\n",
       "    <img src=\"https://cdn-icons-png.flaticon.com/512/733/733561.png\" alt=\"Share on LinkedIn\" width=\"24px\">\n",
       "  </a>\n",
       "  <a href=\"https://www.facebook.com/sharer/sharer.php?u=https://www.reddydodlapati.com/top10_bioinfo_stats\" target=\"_blank\">\n",
       "    <img src=\"https://cdn-icons-png.flaticon.com/512/733/733547.png\" alt=\"Share on Facebook\" width=\"24px\">\n",
       "  </a>\n",
       "</div>\n"
      ],
      "text/plain": [
       "<IPython.core.display.HTML object>"
      ]
     },
     "metadata": {},
     "output_type": "display_data"
    }
   ],
   "source": [
    "# Define the URL as a Python variable\n",
    "url = \"https://www.reddydodlapati.com/top10_bioinfo_stats\"\n",
    "\n",
    "# Display the HTML using Python's f-string\n",
    "from IPython.display import display, HTML\n",
    "\n",
    "html_code = f\"\"\"\n",
    "<div class=\"social-share\">\n",
    "  <a href=\"https://twitter.com/intent/tweet?text=Check out this blog post&url={url}\" target=\"_blank\">\n",
    "    <img src=\"https://cdn-icons-png.flaticon.com/512/733/733579.png\" alt=\"Share on Twitter\" width=\"24px\">\n",
    "  </a>\n",
    "  <a href=\"https://www.linkedin.com/sharing/share-offsite/?url={url}\" target=\"_blank\">\n",
    "    <img src=\"https://cdn-icons-png.flaticon.com/512/733/733561.png\" alt=\"Share on LinkedIn\" width=\"24px\">\n",
    "  </a>\n",
    "  <a href=\"https://www.facebook.com/sharer/sharer.php?u={url}\" target=\"_blank\">\n",
    "    <img src=\"https://cdn-icons-png.flaticon.com/512/733/733547.png\" alt=\"Share on Facebook\" width=\"24px\">\n",
    "  </a>\n",
    "</div>\n",
    "\"\"\"\n",
    "\n",
    "display(HTML(html_code))"
   ]
  },
  {
   "cell_type": "markdown",
   "id": "ee7119b1-1a9c-4e05-8c6d-24719616ee14",
   "metadata": {},
   "source": [
    "<!-- <div style=\"max-width: 800px; font-size:20px; text-align: justify;\"> -->\n",
    "<!-- <span style=\"font-size:20px;\"> -->\n",
    "\n",
    "# Understanding T-Tests: A Comprehensive Guide to Comparing Group Means\n",
    "\n",
    "A **t-test** is a statistical method used to determine whether there is a significant difference between the means of two groups. It's commonly applied in various fields to compare group averages and assess the impact of interventions or treatments.\n",
    "\n",
    "**Purpose:**\n",
    "The primary goal of a t-test is to evaluate whether the observed differences between group means are statistically significant or if they could have occurred by chance. For example, it can help determine if a new teaching method leads to higher test scores compared to a traditional approach.\n",
    "\n",
    "**Applications:**\n",
    "- **Education:** Comparing average test scores between two classes to assess different teaching methods.\n",
    "  \n",
    "- **Medicine:** Evaluating the effectiveness of a new drug by comparing patient outcomes between a treatment group and a control group.\n",
    "  \n",
    "- **Business:** Assessing whether a new marketing strategy leads to higher sales compared to the previous strategy.\n",
    "\n",
    "**Types of T-Tests:**\n",
    "\n",
    "1. **Independent Samples T-Test:** This test compares the means of two separate groups to see if they differ significantly. For instance, comparing the average heights of men and women.\n",
    "\n",
    "1. **Paired Samples T-Test:** This test compares the means from the same group at two different times or under two different conditions. An example would be measuring the weight of individuals before and after a diet program.\n",
    "\n",
    "\n",
    "**Assumptions:**\n",
    "For the results of a t-test to be valid, certain assumptions should be met:\n",
    "\n",
    "- **Normality:** The data in each group should be approximately normally distributed. This means that when plotted, the data should form a bell-shaped curve.\n",
    "  \n",
    "- **Equal Variances:** The variability (spread) of scores in the two groups should be similar. This assumption is known as homogeneity of variances.\n",
    "\n",
    "\n",
    "If these assumptions are violated, the results of the t-test may not be reliable. In such cases, alternative statistical methods or data transformations might be necessary.\n",
    "\n",
    "Understanding and correctly applying t-tests enable researchers and analysts to make informed decisions based on data, ensuring that observed differences between groups are meaningful and not due to random chance.\n",
    "\n",
    "To demonstrate the applications of t-tests in Python, we'll use the scipy.stats module, which provides functions for performing various statistical tests. Below are examples for both Independent Samples T-Test and Paired Samples T-Test, along with sample data.\n",
    "\n",
    "1. Independent Samples T-Test\n",
    "\n",
    "This test compares the means of two independent groups to determine if they are significantly different. For instance, comparing the average test scores of two different classes.\n",
    "\n",
    "Example:\n",
    "\n",
    "Suppose we have test scores from two classes, and we want to determine if there's a significant difference between their average scores.\n",
    "\n",
    "\n",
    "![Description of the image](temp.png)\n",
    "\n",
    "\n",
    "<!-- </span> -->\n",
    "<!-- </div> -->"
   ]
  },
  {
   "cell_type": "markdown",
   "id": "f4d2d461-813b-4b94-b57c-3a0cdaede82d",
   "metadata": {},
   "source": [
    "A **t-test** is a statistical method used to determine whether there is a significant difference between the means of two groups. It's commonly applied in various fields to compare group averages and assess the impact of interventions or treatments."
   ]
  },
  {
   "cell_type": "code",
   "execution_count": 2,
   "id": "d670b25e-18aa-46ce-96de-c8416ce7ebc5",
   "metadata": {},
   "outputs": [
    {
     "name": "stdout",
     "output_type": "stream",
     "text": [
      "T-Statistic: 7.79\n",
      "P-Value: 0.0000\n",
      "Reject the null hypothesis: There is a significant difference between the two classes.\n"
     ]
    }
   ],
   "source": [
    "import numpy as np\n",
    "from scipy import stats\n",
    "\n",
    "# Sample data: test scores of two classes\n",
    "class_A_scores = [85, 88, 90, 92, 86, 87, 91, 89, 84, 90]\n",
    "class_B_scores = [78, 82, 80, 79, 81, 77, 83, 80, 78, 82]\n",
    "\n",
    "# Perform Independent Samples T-Test\n",
    "t_stat, p_value = stats.ttest_ind(class_A_scores, class_B_scores)\n",
    "\n",
    "print(f\"T-Statistic: {t_stat:.2f}\")\n",
    "print(f\"P-Value: {p_value:.4f}\")\n",
    "\n",
    "# Interpret the result\n",
    "alpha = 0.05\n",
    "if p_value < alpha:\n",
    "    print(\"Reject the null hypothesis: There is a significant difference between the two classes.\")\n",
    "else:\n",
    "    print(\"Fail to reject the null hypothesis: No significant difference between the two classes.\")"
   ]
  },
  {
   "cell_type": "markdown",
   "id": "de48bfb1-d839-4cdb-a8cb-27cf85e687b4",
   "metadata": {},
   "source": [
    "<div style=\"max-width: 800px; font-size:20px; text-align: justify;\">\n",
    "\n",
    "In this example, the p-value is less than the significance level (alpha = 0.05), indicating a significant difference between the average scores of the two classes.\n",
    "\n",
    "Paired Samples T-Test\n",
    "This test compares the means from the same group at different times or under different conditions. For example, measuring the weights of individuals before and after a diet program.\n",
    "\n",
    "Example:\n",
    "\n",
    "Assume we have the weights of individuals before and after a diet program, and we want to determine if the program had a significant effect\n",
    "\n",
    "\n",
    "2. Paired Samples T-Test\n",
    "\n",
    "This test compares the means from the same group at different times or under different conditions. For example, measuring the weights of individuals before and after a diet program.\n",
    "\n",
    "Example:\n",
    "\n",
    "Assume we have the weights of individuals before and after a diet program, and we want to determine if the program had a significant effect.\n",
    "\n",
    "</div>"
   ]
  },
  {
   "cell_type": "code",
   "execution_count": 3,
   "id": "8a0993a5-dd0c-491a-99a9-e02016201d14",
   "metadata": {},
   "outputs": [
    {
     "name": "stdout",
     "output_type": "stream",
     "text": [
      "T-Statistic: 9.80\n",
      "P-Value: 0.0000\n",
      "Reject the null hypothesis: The diet program had a significant effect.\n"
     ]
    }
   ],
   "source": [
    "import numpy as np\n",
    "from scipy import stats\n",
    "\n",
    "# Sample data: weights before and after a diet program\n",
    "weights_before = [200, 195, 180, 210, 190, 205, 185, 200, 195, 210]\n",
    "weights_after = [190, 188, 175, 200, 185, 198, 180, 195, 190, 205]\n",
    "\n",
    "# Perform Paired Samples T-Test\n",
    "t_stat, p_value = stats.ttest_rel(weights_before, weights_after)\n",
    "\n",
    "print(f\"T-Statistic: {t_stat:.2f}\")\n",
    "print(f\"P-Value: {p_value:.4f}\")\n",
    "\n",
    "# Interpret the result\n",
    "alpha = 0.05\n",
    "if p_value < alpha:\n",
    "    print(\"Reject the null hypothesis: The diet program had a significant effect.\")\n",
    "else:\n",
    "    print(\"Fail to reject the null hypothesis: No significant effect of the diet program.\")"
   ]
  },
  {
   "cell_type": "markdown",
   "id": "1cff121e-04bf-4c20-8fc0-3224b4f180ae",
   "metadata": {},
   "source": [
    "<div style=\"max-width: 800px; font-size:20px; text-align: justify;\">\n",
    "Here, the p-value is less than 0.05, suggesting that the diet program led to a significant reduction in weight.\n",
    "\n",
    "__Note__: Before performing t-tests, it's essential to check the assumptions of normality and equal variances. If these assumptions are violated, consider using non-parametric tests or applying data transformations.\n",
    "\n",
    "These examples illustrate how to perform t-tests in Python using sample data, helping to determine whether observed differences between groups are statistically significant.\n",
    "\n",
    "\n",
    "</div>"
   ]
  },
  {
   "cell_type": "code",
   "execution_count": null,
   "id": "679da2f6-91ea-4eaf-b438-2ec51395f899",
   "metadata": {},
   "outputs": [],
   "source": []
  }
 ],
 "metadata": {
  "kernelspec": {
   "display_name": "Python 3 (ipykernel)",
   "language": "python",
   "name": "python3"
  },
  "language_info": {
   "codemirror_mode": {
    "name": "ipython",
    "version": 3
   },
   "file_extension": ".py",
   "mimetype": "text/x-python",
   "name": "python",
   "nbconvert_exporter": "python",
   "pygments_lexer": "ipython3",
   "version": "3.12.4"
  }
 },
 "nbformat": 4,
 "nbformat_minor": 5
}
