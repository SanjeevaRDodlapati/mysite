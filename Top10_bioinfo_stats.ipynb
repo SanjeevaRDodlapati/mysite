{
 "cells": [
  {
   "cell_type": "raw",
   "metadata": {},
   "source": [
    "---\n",
    "title: \"Frequently used statistical concepts in Bioinformatics\"\n",
    "toc: false  # Disables the table of contents\n",
    "format:\n",
    "  html:\n",
    "    code-fold: false\n",
    "    code-overflow: wrap\n",
    "    code-tools:\n",
    "      source: true\n",
    "      toggle: true\n",
    "      caption: none\n",
    "highlight-style: dracula\n",
    "sidebar: minimal-sidebar\n",
    "jupyter: python3\n",
    "---"
   ]
  },
  {
   "cell_type": "code",
   "execution_count": 1,
   "metadata": {},
   "outputs": [
    {
     "data": {
      "text/html": [
       "\n",
       "<div class=\"social-share\">\n",
       "  <a href=\"https://twitter.com/intent/tweet?text=Check out this blog post&url=https://www.reddydodlapati.com/top10_bioinfo_stats\" target=\"_blank\">\n",
       "    <img src=\"https://cdn-icons-png.flaticon.com/512/733/733579.png\" alt=\"Share on Twitter\" width=\"24px\">\n",
       "  </a>\n",
       "  <a href=\"https://www.linkedin.com/sharing/share-offsite/?url=https://www.reddydodlapati.com/top10_bioinfo_stats\" target=\"_blank\">\n",
       "    <img src=\"https://cdn-icons-png.flaticon.com/512/733/733561.png\" alt=\"Share on LinkedIn\" width=\"24px\">\n",
       "  </a>\n",
       "  <a href=\"https://www.facebook.com/sharer/sharer.php?u=https://www.reddydodlapati.com/top10_bioinfo_stats\" target=\"_blank\">\n",
       "    <img src=\"https://cdn-icons-png.flaticon.com/512/733/733547.png\" alt=\"Share on Facebook\" width=\"24px\">\n",
       "  </a>\n",
       "</div>\n"
      ],
      "text/plain": [
       "<IPython.core.display.HTML object>"
      ]
     },
     "metadata": {},
     "output_type": "display_data"
    }
   ],
   "source": [
    "# Define the URL as a Python variable\n",
    "url = \"https://www.reddydodlapati.com/top10_bioinfo_stats\"\n",
    "\n",
    "# Display the HTML using Python's f-string\n",
    "from IPython.display import display, HTML\n",
    "\n",
    "html_code = f\"\"\"\n",
    "<div class=\"social-share\">\n",
    "  <a href=\"https://twitter.com/intent/tweet?text=Check out this blog post&url={url}\" target=\"_blank\">\n",
    "    <img src=\"https://cdn-icons-png.flaticon.com/512/733/733579.png\" alt=\"Share on Twitter\" width=\"24px\">\n",
    "  </a>\n",
    "  <a href=\"https://www.linkedin.com/sharing/share-offsite/?url={url}\" target=\"_blank\">\n",
    "    <img src=\"https://cdn-icons-png.flaticon.com/512/733/733561.png\" alt=\"Share on LinkedIn\" width=\"24px\">\n",
    "  </a>\n",
    "  <a href=\"https://www.facebook.com/sharer/sharer.php?u={url}\" target=\"_blank\">\n",
    "    <img src=\"https://cdn-icons-png.flaticon.com/512/733/733547.png\" alt=\"Share on Facebook\" width=\"24px\">\n",
    "  </a>\n",
    "</div>\n",
    "\"\"\"\n",
    "\n",
    "display(HTML(html_code))"
   ]
  },
  {
   "cell_type": "code",
   "execution_count": 1,
   "metadata": {
    "executionInfo": {
     "elapsed": 189,
     "status": "ok",
     "timestamp": 1730951513050,
     "user": {
      "displayName": "Dodlapati Sanjeeva reddy",
      "userId": "12728935463680531866"
     },
     "user_tz": 300
    },
    "id": "Ikk9XKapR3iA"
   },
   "outputs": [],
   "source": [
    "import os\n",
    "import pandas as pd\n",
    "import numpy as np\n",
    "import random\n",
    "import scipy as scp\n",
    "import warnings\n",
    "warnings.filterwarnings('ignore')"
   ]
  },
  {
   "cell_type": "code",
   "execution_count": 2,
   "metadata": {
    "id": "t0_jGUscwhIT"
   },
   "outputs": [],
   "source": [
    "# # Install packages. Uncomment to install and comment back after installing\n",
    "# %pip install hmmlearn\n",
    "# %pip install lifelines"
   ]
  },
  {
   "cell_type": "markdown",
   "metadata": {
    "id": "58eIH9TmS70K"
   },
   "source": [
    "<div style=\"max-width: 100%; font-size:20px; text-align: justify;\">\n",
    "    \n",
    "\n",
    "In bioinformatics, statistical concepts are pivotal for analyzing and interpreting complex biological data. Below are ten fundamental statistical concepts, each defined with explanations, mathematical formulations, and Python code examples to illustrate their applications.\n",
    "\n",
    "\n",
    "## 1. Probability Theory and Bayes' Theorem\n",
    "\n",
    "  Definition: Probability theory quantifies the likelihood of events occurring. Bayes' Theorem provides a way to update the probability of a hypothesis based on new evidence.\n",
    "  \n",
    "  Mathematical Formulation: 𝑃 ( 𝐴 ∣ 𝐵 ) = 𝑃 ( 𝐵 ∣ 𝐴 ) × 𝑃 ( 𝐴 ) 𝑃 ( 𝐵 ) P(A∣B)= P(B) P(B∣A)×P(A)​Where:\n",
    "\n",
    "  𝑃 ( 𝐴 ∣ 𝐵 ) P(A∣B) is the posterior probability of event A given B. 𝑃 ( 𝐵 ∣ 𝐴 ) P(B∣A) is the likelihood of event B given A. 𝑃 ( 𝐴 ) P(A) and 𝑃 ( 𝐵 ) P(B) are the prior probabilities of events A and B, respectively.\n",
    "  \n",
    "  Example: In genomics, determining the probability of a disease given a genetic marker involves updating prior knowledge with new genetic data\n",
    "\n",
    "</div>"
   ]
  },
  {
   "cell_type": "code",
   "execution_count": 3,
   "metadata": {
    "colab": {
     "base_uri": "https://localhost:8080/"
    },
    "executionInfo": {
     "elapsed": 168,
     "status": "ok",
     "timestamp": 1730943882158,
     "user": {
      "displayName": "Dodlapati Sanjeeva reddy",
      "userId": "12728935463680531866"
     },
     "user_tz": 300
    },
    "id": "kFfpImmlSBGg",
    "outputId": "4e5cb99a-c75d-4777-81ee-ebb09f2f5670"
   },
   "outputs": [
    {
     "name": "stdout",
     "output_type": "stream",
     "text": [
      "Posterior probability of disease given a positive test: 0.1538\n"
     ]
    }
   ],
   "source": [
    "# Calculating posterior probability using Bayes' Theorem\n",
    "def bayes_theorem(prior_A, likelihood_B_given_A, prior_B):\n",
    "    return (likelihood_B_given_A * prior_A) / prior_B\n",
    "\n",
    "# Example values\n",
    "prior_disease = 0.01  # Prior probability of disease\n",
    "sensitivity = 0.9     # P(Test positive | Disease)\n",
    "specificity = 0.95    # P(Test negative | No Disease)\n",
    "prior_no_disease = 1 - prior_disease\n",
    "false_positive_rate = 1 - specificity\n",
    "\n",
    "# P(Test positive)\n",
    "prior_test_positive = (sensitivity * prior_disease) + (false_positive_rate * prior_no_disease)\n",
    "\n",
    "# P(Disease | Test positive)\n",
    "posterior_disease_given_positive = bayes_theorem(prior_disease, sensitivity, prior_test_positive)\n",
    "print(f\"Posterior probability of disease given a positive test: {posterior_disease_given_positive:.4f}\")\n"
   ]
  },
  {
   "cell_type": "markdown",
   "metadata": {
    "id": "o2s0ff8pTbJG"
   },
   "source": [
    "<div style=\"max-width: 100%; font-size:20px; text-align: justify;\">\n",
    "\n",
    "## 2. Hypothesis Testing\n",
    "\n",
    "Definition: A statistical method to determine if there is enough evidence to reject a null hypothesis in favor of an alternative hypothesis.\n",
    "\n",
    "Mathematical Formulation:\n",
    "\n",
    "Null Hypothesis (𝐻0): Assumes no effect or difference.\n",
    "\n",
    "Alternative Hypothesis (𝐻1): Assumes an effect or difference exists.\n",
    " \n",
    "Test Statistic: A value calculated from sample data used to decide whether to reject 𝐻0.\n",
    "\n",
    "p-value: The probability of obtaining a test statistic at least as extreme as the one observed, assuming 𝐻0 is true.\n",
    "\n",
    "\n",
    "Example: Testing whether a new drug affects gene expression levels compared to a control.\n",
    "\n",
    "</div>"
   ]
  },
  {
   "cell_type": "code",
   "execution_count": 4,
   "metadata": {
    "colab": {
     "base_uri": "https://localhost:8080/"
    },
    "executionInfo": {
     "elapsed": 3422,
     "status": "ok",
     "timestamp": 1730944148077,
     "user": {
      "displayName": "Dodlapati Sanjeeva reddy",
      "userId": "12728935463680531866"
     },
     "user_tz": 300
    },
    "id": "HsaNzE38S5IM",
    "outputId": "b60de1ac-b24a-420a-c271-70ec9864b829"
   },
   "outputs": [
    {
     "name": "stdout",
     "output_type": "stream",
     "text": [
      "T-statistic: 3.5000, p-value: 0.0081\n",
      "Reject the null hypothesis: Significant difference between groups.\n"
     ]
    }
   ],
   "source": [
    "import numpy as np\n",
    "from scipy import stats\n",
    "\n",
    "# Sample data: gene expression levels\n",
    "control = np.array([5.1, 5.3, 5.5, 5.7, 5.9])\n",
    "treatment = np.array([5.8, 6.0, 6.2, 6.4, 6.6])\n",
    "\n",
    "# Perform two-sample t-test\n",
    "t_stat, p_value = stats.ttest_ind(treatment, control)\n",
    "print(f\"T-statistic: {t_stat:.4f}, p-value: {p_value:.4f}\")\n",
    "\n",
    "# Interpret the result\n",
    "alpha = 0.05\n",
    "if p_value < alpha:\n",
    "    print(\"Reject the null hypothesis: Significant difference between groups.\")\n",
    "else:\n",
    "    print(\"Fail to reject the null hypothesis: No significant difference between groups.\")\n"
   ]
  },
  {
   "cell_type": "markdown",
   "metadata": {
    "id": "xechJH3AxMLh"
   },
   "source": [
    "<div style=\"max-width: 100%; font-size:20px; text-align: justify;\">\n",
    "\n",
    "## 3. Regression Analysis\n",
    "\n",
    "Definition: A set of statistical processes for estimating relationships among variables.\n",
    "\n",
    "Mathematical Formulation:\n",
    "\n",
    "Linear Regression Model:\n",
    "\n",
    "𝑌 =\n",
    "𝛽\n",
    "0\n",
    "+\n",
    "𝛽\n",
    "1\n",
    "𝑋\n",
    "+\n",
    "𝜖\n",
    "Y=β\n",
    "0\n",
    "​\n",
    " +β\n",
    "1\n",
    "​\n",
    " X+ϵ\n",
    "𝑌\n",
    "\n",
    "Y: Dependent variable\n",
    "\n",
    "X: Independent variable\n",
    "\n",
    "β\n",
    "0\n",
    "​\n",
    " : Intercept\n",
    "\n",
    "β\n",
    "1\n",
    "​\n",
    " : Slope\n",
    "\n",
    "ϵ: Error term\n",
    "\n",
    "\n",
    "Example: Predicting protein concentration based on gene expression levels.\n",
    "\n",
    "</div>"
   ]
  },
  {
   "cell_type": "code",
   "execution_count": 5,
   "metadata": {
    "colab": {
     "base_uri": "https://localhost:8080/",
     "height": 467
    },
    "executionInfo": {
     "elapsed": 2799,
     "status": "ok",
     "timestamp": 1730945082596,
     "user": {
      "displayName": "Dodlapati Sanjeeva reddy",
      "userId": "12728935463680531866"
     },
     "user_tz": 300
    },
    "id": "InLp3KfuT5QU",
    "outputId": "d073f6c2-5f4c-4183-9602-4ea07b0f592f"
   },
   "outputs": [
    {
     "name": "stdout",
     "output_type": "stream",
     "text": [
      "Intercept: 0.10, Slope: 0.98\n"
     ]
    },
    {
     "data": {
      "image/png": "[encoded data removed]",
      "text/plain": [
       "<Figure size 640x480 with 1 Axes>"
      ]
     },
     "metadata": {},
     "output_type": "display_data"
    }
   ],
   "source": [
    "import numpy as np\n",
    "import matplotlib.pyplot as plt\n",
    "from sklearn.linear_model import LinearRegression\n",
    "\n",
    "# Sample data: gene expression (X) and protein concentration (Y)\n",
    "X = np.array([1, 2, 3, 4, 5]).reshape(-1, 1)\n",
    "Y = np.array([1.2, 1.9, 3.1, 3.9, 5.1])\n",
    "\n",
    "# Create and fit the model\n",
    "model = LinearRegression()\n",
    "model.fit(X, Y)\n",
    "\n",
    "# Coefficients\n",
    "intercept = model.intercept_\n",
    "slope = model.coef_[0]\n",
    "print(f\"Intercept: {intercept:.2f}, Slope: {slope:.2f}\")\n",
    "\n",
    "# Predict and plot\n",
    "Y_pred = model.predict(X)\n",
    "plt.scatter(X, Y, color='blue', label='Actual data')\n",
    "plt.plot(X, Y_pred, color='red', label='Fitted line')\n",
    "plt.xlabel('Gene Expression')\n",
    "plt.ylabel('Protein Concentration')\n",
    "plt.legend()\n",
    "plt.show()\n"
   ]
  },
  {
   "cell_type": "code",
   "execution_count": 6,
   "metadata": {
    "colab": {
     "base_uri": "https://localhost:8080/"
    },
    "executionInfo": {
     "elapsed": 201,
     "status": "ok",
     "timestamp": 1730945294801,
     "user": {
      "displayName": "Dodlapati Sanjeeva reddy",
      "userId": "12728935463680531866"
     },
     "user_tz": 300
    },
    "id": "EwIzRt63Xdjw",
    "outputId": "0437b69d-69cc-4a15-b715-333b8874ab64"
   },
   "outputs": [
    {
     "name": "stdout",
     "output_type": "stream",
     "text": [
      "F-statistic: 75.0000, p-value: 0.0001\n",
      "Reject the null hypothesis: Significant differences exist between tissue groups.\n"
     ]
    }
   ],
   "source": [
    "import pandas as pd\n",
    "import numpy as np\n",
    "from scipy import stats\n",
    "\n",
    "# Sample data: gene expression levels in different tissues\n",
    "data = {\n",
    "    'Tissue': ['Liver', 'Liver', 'Liver', 'Heart', 'Heart', 'Heart', 'Brain', 'Brain', 'Brain'],\n",
    "    'Expression': [5.1, 5.3, 5.5, 6.1, 6.3, 6.5, 7.1, 7.3, 7.5]\n",
    "}\n",
    "df = pd.DataFrame(data)\n",
    "\n",
    "# Perform one-way ANOVA\n",
    "liver = df[df['Tissue'] == 'Liver']['Expression']\n",
    "heart = df[df['Tissue'] == 'Heart']['Expression']\n",
    "brain = df[df['Tissue'] == 'Brain']['Expression']\n",
    "\n",
    "f_stat, p_val = stats.f_oneway(liver, heart, brain)\n",
    "print(f\"F-statistic: {f_stat:.4f}, p-value: {p_val:.4f}\")\n",
    "\n",
    "# Interpret the result\n",
    "alpha = 0.05\n",
    "if p_val < alpha:\n",
    "    print(\"Reject the null hypothesis: Significant differences exist between tissue groups.\")\n",
    "else:\n",
    "    print(\"Fail to reject the null hypothesis: No significant differences between tissue groups.\")\n"
   ]
  },
  {
   "cell_type": "code",
   "execution_count": 7,
   "metadata": {
    "colab": {
     "base_uri": "https://localhost:8080/",
     "height": 472
    },
    "executionInfo": {
     "elapsed": 800,
     "status": "ok",
     "timestamp": 1730945173831,
     "user": {
      "displayName": "Dodlapati Sanjeeva reddy",
      "userId": "12728935463680531866"
     },
     "user_tz": 300
    },
    "id": "sT_IGX-LXhbx",
    "outputId": "13ed8e37-2a17-4bf1-835a-dd947d31d5a9"
   },
   "outputs": [
    {
     "data": {
      "image/png": "[encoded data removed]",
      "text/plain": [
       "<Figure size 640x480 with 1 Axes>"
      ]
     },
     "metadata": {},
     "output_type": "display_data"
    }
   ],
   "source": [
    "import numpy as np\n",
    "import matplotlib.pyplot as plt\n",
    "from sklearn.decomposition import PCA\n",
    "from sklearn.preprocessing import StandardScaler\n",
    "\n",
    "# Sample data: gene expression levels (rows: genes, columns: samples)\n",
    "data = np.array([\n",
    "    [2.5, 2.4],\n",
    "    [0.5, 0.7],\n",
    "    [2.2, 2.9],\n",
    "    [1.9, 2.2],\n",
    "    [3.1, 3.0],\n",
    "    [2.3, 2.7],\n",
    "    [2.0, 1.6],\n",
    "    [1.0, 1.1],\n",
    "    [1.5, 1.6],\n",
    "    [1.1, 0.9]\n",
    "])\n",
    "\n",
    "# Standardize the data\n",
    "scaler = StandardScaler()\n",
    "data_std = scaler.fit_transform(data)\n",
    "\n",
    "# Perform PCA\n",
    "pca = PCA(n_components=2)\n",
    "principal_components = pca.fit_transform(data_std)\n",
    "\n",
    "# Plot the results\n",
    "plt.scatter(principal_components[:, 0], principal_components[:, 1], c='blue')\n",
    "plt.xlabel('Principal Component 1')\n",
    "plt.ylabel('Principal Component 2')\n",
    "plt.title('PCA of Gene Expression Data')\n",
    "plt.show()\n"
   ]
  },
  {
   "cell_type": "code",
   "execution_count": 8,
   "metadata": {
    "colab": {
     "base_uri": "https://localhost:8080/",
     "height": 472
    },
    "executionInfo": {
     "elapsed": 1166,
     "status": "ok",
     "timestamp": 1730945188861,
     "user": {
      "displayName": "Dodlapati Sanjeeva reddy",
      "userId": "12728935463680531866"
     },
     "user_tz": 300
    },
    "id": "RdOjgEQAX0Um",
    "outputId": "a7b2664f-6abe-49c0-b3e2-bd9b7403826b"
   },
   "outputs": [
    {
     "data": {
      "image/png": "[encoded data removed]",
      "text/plain": [
       "<Figure size 640x480 with 1 Axes>"
      ]
     },
     "metadata": {},
     "output_type": "display_data"
    }
   ],
   "source": [
    "import numpy as np\n",
    "import matplotlib.pyplot as plt\n",
    "from sklearn.cluster import KMeans\n",
    "\n",
    "# Sample data: gene expression levels\n",
    "data = np.array([\n",
    "    [1.0, 2.0],\n",
    "    [1.5, 1.8],\n",
    "    [5.0, 8.0],\n",
    "    [8.0, 8.0],\n",
    "    [1.0, 0.6],\n",
    "    [9.0, 11.0],\n",
    "    [8.0, 2.0],\n",
    "    [10.0, 2.0],\n",
    "    [9.0, 3.0]\n",
    "])\n",
    "\n",
    "# Perform K-means clustering\n",
    "kmeans = KMeans(n_clusters=3)\n",
    "kmeans.fit(data)\n",
    "labels = kmeans.labels_\n",
    "centroids = kmeans.cluster_centers_\n",
    "\n",
    "# Plot the results\n",
    "colors = ['r', 'g', 'b']\n",
    "for i in range(len(data)):\n",
    "    plt.scatter(data[i][0], data[i][1], c=colors[labels[i]], s=30)\n",
    "plt.scatter(centroids[:, 0], centroids[:, 1], marker='x', s=100, c='black')\n",
    "plt.xlabel('Gene Expression Feature 1')\n",
    "plt.ylabel('Gene Expression Feature 2')\n",
    "plt.title('K-means Clustering of Gene Expression Data')\n",
    "plt.show()\n"
   ]
  },
  {
   "cell_type": "code",
   "execution_count": 9,
   "metadata": {
    "colab": {
     "base_uri": "https://localhost:8080/"
    },
    "executionInfo": {
     "elapsed": 204,
     "status": "ok",
     "timestamp": 1730951541075,
     "user": {
      "displayName": "Dodlapati Sanjeeva reddy",
      "userId": "12728935463680531866"
     },
     "user_tz": 300
    },
    "id": "N-NeuRXXX36K",
    "outputId": "996c7de4-3213-4304-c94a-60a1a9479e0a"
   },
   "outputs": [
    {
     "name": "stdout",
     "output_type": "stream",
     "text": [
      "Generated Markov Sequence: AAATCGTGTTTAATCGGCGACCGCCGTATCCCCGCCTGACGTTGGGAATG\n"
     ]
    }
   ],
   "source": [
    "# Define states and transition matrix\n",
    "states = ['A', 'C', 'G', 'T']\n",
    "transition_matrix = {\n",
    "    'A': {'A': 0.3, 'C': 0.2, 'G': 0.2, 'T': 0.3},\n",
    "    'C': {'A': 0.1, 'C': 0.4, 'G': 0.4, 'T': 0.1},\n",
    "    'G': {'A': 0.2, 'C': 0.3, 'G': 0.3, 'T': 0.2},\n",
    "    'T': {'A': 0.25, 'C': 0.25, 'G': 0.25, 'T': 0.25},\n",
    "}\n",
    "\n",
    "# Generate a Markov sequence\n",
    "def generate_markov_sequence(length, start_state='A'):\n",
    "    sequence = [start_state]\n",
    "    current_state = start_state\n",
    "    for _ in range(length - 1):\n",
    "        next_state = random.choices(\n",
    "            population=states,\n",
    "            weights=[transition_matrix[current_state][s] for s in states]\n",
    "        )[0]\n",
    "        sequence.append(next_state)\n",
    "        current_state = next_state\n",
    "    return ''.join(sequence)\n",
    "\n",
    "# Generate a sequence of length 50 starting with 'A'\n",
    "markov_sequence = generate_markov_sequence(50, start_state='A')\n",
    "print(\"Generated Markov Sequence:\", markov_sequence)\n"
   ]
  },
  {
   "cell_type": "code",
   "execution_count": 10,
   "metadata": {
    "colab": {
     "base_uri": "https://localhost:8080/"
    },
    "executionInfo": {
     "elapsed": 215,
     "status": "ok",
     "timestamp": 1730951588670,
     "user": {
      "displayName": "Dodlapati Sanjeeva reddy",
      "userId": "12728935463680531866"
     },
     "user_tz": 300
    },
    "id": "tbRrNlPltUET",
    "outputId": "225dcaa7-afaf-4c2a-b5bf-2a8fe7a51778"
   },
   "outputs": [
    {
     "name": "stdout",
     "output_type": "stream",
     "text": [
      "Observed Sequence:  ACGTGCAGTA\n",
      "Predicted Hidden States: ['Intron', 'Exon', 'Intron', 'Exon', 'Intron', 'Exon', 'Intron', 'Exon', 'Intron', 'Exon']\n"
     ]
    }
   ],
   "source": [
    "import logging\n",
    "\n",
    "# Set logging level to suppress informational messages\n",
    "logging.getLogger().setLevel(logging.ERROR)\n",
    "\n",
    "# Your code here\n",
    "\n",
    "from hmmlearn import hmm\n",
    "\n",
    "# Define the HMM\n",
    "model = hmm.MultinomialHMM(n_components=2, n_iter=100, tol=0.01)\n",
    "\n",
    "# Encoding Exon and Intron states as 0 and 1\n",
    "# Assume 'A', 'C', 'G', 'T' as observations (encoded as 0, 1, 2, 3)\n",
    "states = ['Exon', 'Intron']\n",
    "observations = ['A', 'C', 'G', 'T']\n",
    "\n",
    "# Transition probability matrix for Exon and Intron\n",
    "# High self-transition probabilities to simulate longer sequences\n",
    "model.startprob_ = np.array([0.5, 0.5])  # Start with equal probability\n",
    "model.transmat_ = np.array([\n",
    "    [0.8, 0.2],  # Exon to Exon, Exon to Intron\n",
    "    [0.2, 0.8]   # Intron to Exon, Intron to Intron\n",
    "])\n",
    "\n",
    "# Emission probability matrix for Exon and Intron\n",
    "# Exons may have slightly different nucleotide distribution\n",
    "model.emissionprob_ = np.array([\n",
    "    [0.25, 0.25, 0.25, 0.25],  # Equal for simplicity in exons\n",
    "    [0.1, 0.4, 0.4, 0.1]       # Higher C/G content in introns\n",
    "])\n",
    "\n",
    "# Generate a sample sequence (observations encoded as integers)\n",
    "sequence = np.array([[0, 1, 2, 3, 2, 1, 0, 2, 3, 0]]).T  # Sample DNA sequence as 'A', 'C', 'G', 'T'\n",
    "\n",
    "# Fit the model to the sequence and predict the hidden states\n",
    "model = model.fit(sequence)\n",
    "hidden_states = model.predict(sequence)\n",
    "\n",
    "# Decode and print the hidden states\n",
    "decoded_states = [states[state] for state in hidden_states]\n",
    "print(\"Observed Sequence: \", ''.join([observations[i[0]] for i in sequence]))\n",
    "print(\"Predicted Hidden States:\", decoded_states)\n"
   ]
  },
  {
   "cell_type": "code",
   "execution_count": 11,
   "metadata": {
    "colab": {
     "base_uri": "https://localhost:8080/"
    },
    "executionInfo": {
     "elapsed": 369,
     "status": "ok",
     "timestamp": 1730945315953,
     "user": {
      "displayName": "Dodlapati Sanjeeva reddy",
      "userId": "12728935463680531866"
     },
     "user_tz": 300
    },
    "id": "53XD0tEyX6ZO",
    "outputId": "41172192-644c-4d4c-8950-dec6ba6ef6d5"
   },
   "outputs": [
    {
     "name": "stdout",
     "output_type": "stream",
     "text": [
      "Test 1: Original p-value = 0.010, Corrected p-value = 0.027, Reject null hypothesis: True\n",
      "Test 2: Original p-value = 0.040, Corrected p-value = 0.064, Reject null hypothesis: False\n",
      "Test 3: Original p-value = 0.030, Corrected p-value = 0.060, Reject null hypothesis: False\n",
      "Test 4: Original p-value = 0.050, Corrected p-value = 0.067, Reject null hypothesis: False\n",
      "Test 5: Original p-value = 0.200, Corrected p-value = 0.200, Reject null hypothesis: False\n",
      "Test 6: Original p-value = 0.001, Corrected p-value = 0.008, Reject null hypothesis: True\n",
      "Test 7: Original p-value = 0.150, Corrected p-value = 0.171, Reject null hypothesis: False\n",
      "Test 8: Original p-value = 0.005, Corrected p-value = 0.020, Reject null hypothesis: True\n"
     ]
    }
   ],
   "source": [
    "import numpy as np\n",
    "from statsmodels.stats.multitest import multipletests\n",
    "\n",
    "# Sample p-values from multiple tests\n",
    "p_values = np.array([0.01, 0.04, 0.03, 0.05, 0.20, 0.001, 0.15, 0.005])\n",
    "\n",
    "# Apply Benjamini-Hochberg correction for False Discovery Rate (FDR)\n",
    "reject, pvals_corrected, _, _ = multipletests(p_values, alpha=0.05, method='fdr_bh')\n",
    "\n",
    "# Results\n",
    "for i, (p_val, p_corr, rej) in enumerate(zip(p_values, pvals_corrected, reject)):\n",
    "    print(f\"Test {i+1}: Original p-value = {p_val:.3f}, Corrected p-value = {p_corr:.3f}, Reject null hypothesis: {rej}\")\n"
   ]
  },
  {
   "cell_type": "code",
   "execution_count": 12,
   "metadata": {
    "colab": {
     "base_uri": "https://localhost:8080/",
     "height": 472
    },
    "executionInfo": {
     "elapsed": 695,
     "status": "ok",
     "timestamp": 1730951763448,
     "user": {
      "displayName": "Dodlapati Sanjeeva reddy",
      "userId": "12728935463680531866"
     },
     "user_tz": 300
    },
    "id": "9DbVyz1HYXIa",
    "outputId": "25b5762d-75a4-49e8-b3c7-ec4cf49262e3"
   },
   "outputs": [
    {
     "data": {
      "image/png": "[encoded data removed]",
      "text/plain": [
       "<Figure size 640x480 with 1 Axes>"
      ]
     },
     "metadata": {},
     "output_type": "display_data"
    }
   ],
   "source": [
    "import pandas as pd\n",
    "from lifelines import KaplanMeierFitter\n",
    "import matplotlib.pyplot as plt\n",
    "\n",
    "# Sample data: survival times and event occurrences\n",
    "data = {\n",
    "    'Time': [5, 6, 6, 2, 4, 4, 3, 5, 8, 6],\n",
    "    'Event': [1, 0, 1, 1, 0, 1, 0, 1, 1, 0]\n",
    "}\n",
    "df = pd.DataFrame(data)\n",
    "\n",
    "# Initialize the Kaplan-Meier fitter\n",
    "kmf = KaplanMeierFitter()\n",
    "\n",
    "# Fit the data\n",
    "kmf.fit(durations=df['Time'], event_observed=df['Event'])\n",
    "\n",
    "# Plot the survival function\n",
    "kmf.plot_survival_function()\n",
    "plt.title('Survival Function')\n",
    "plt.xlabel('Time')\n",
    "plt.ylabel('Survival Probability')\n",
    "plt.show()\n"
   ]
  },
  {
   "cell_type": "code",
   "execution_count": 13,
   "metadata": {
    "colab": {
     "base_uri": "https://localhost:8080/",
     "height": 539
    },
    "executionInfo": {
     "elapsed": 2153,
     "status": "ok",
     "timestamp": 1730945335674,
     "user": {
      "displayName": "Dodlapati Sanjeeva reddy",
      "userId": "12728935463680531866"
     },
     "user_tz": 300
    },
    "id": "XoMhkhFcYZZP",
    "outputId": "2f464e96-ef7d-41db-b57d-a04cce8e815a"
   },
   "outputs": [
    {
     "data": {
      "image/png": "[encoded data removed]",
      "text/plain": [
       "<Figure size 640x480 with 1 Axes>"
      ]
     },
     "metadata": {},
     "output_type": "display_data"
    }
   ],
   "source": [
    "import networkx as nx\n",
    "import matplotlib.pyplot as plt\n",
    "\n",
    "# Create a sample directed graph representing a biological pathway\n",
    "G = nx.DiGraph()\n",
    "\n",
    "# Add nodes (genes/proteins)\n",
    "nodes = ['GeneA', 'GeneB', 'GeneC', 'GeneD', 'GeneE']\n",
    "G.add_nodes_from(nodes)\n",
    "\n",
    "# Add edges (interactions)\n",
    "edges = [('GeneA', 'GeneB'), ('GeneB', 'GeneC'), ('GeneC', 'GeneD'), ('GeneD', 'GeneE'), ('GeneA', 'GeneC')]\n",
    "G.add_edges_from(edges)\n",
    "\n",
    "# Draw the network\n",
    "pos = nx.spring_layout(G)\n",
    "nx.draw(G, pos, with_labels=True, node_color='lightblue', edge_color='gray', node_size=2000, font_size=10, font_weight='bold')\n",
    "plt.title('Biological Pathway Network')\n",
    "plt.show()\n"
   ]
  },
  {
   "cell_type": "code",
   "execution_count": null,
   "metadata": {
    "id": "GE2OykrbYbgb"
   },
   "outputs": [],
   "source": []
  }
 ],
 "metadata": {
  "colab": {
   "authorship_tag": "ABX9TyNjOa+UQChZfm9WvostwVdB",
   "provenance": []
  },
  "kernelspec": {
   "display_name": "Python 3 (ipykernel)",
   "language": "python",
   "name": "python3"
  },
  "language_info": {
   "codemirror_mode": {
    "name": "ipython",
    "version": 3
   },
   "file_extension": ".py",
   "mimetype": "text/x-python",
   "name": "python",
   "nbconvert_exporter": "python",
   "pygments_lexer": "ipython3",
   "version": "3.12.4"
  }
 },
 "nbformat": 4,
 "nbformat_minor": 4
}
